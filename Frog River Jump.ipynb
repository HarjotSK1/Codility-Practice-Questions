{
 "cells": [
  {
   "cell_type": "code",
   "execution_count": 69,
   "metadata": {},
   "outputs": [
    {
     "name": "stdout",
     "output_type": "stream",
     "text": [
      "6\n"
     ]
    }
   ],
   "source": [
    "# WORKINGS FOR SOLUTION\n",
    "A = [1, 3, 1, 4, 2, 3, 5, 4]\n",
    "X = 5\n",
    "positions = set(list(range(1,X+1)))\n",
    "leaves = set()\n",
    "for i in list(range(len(A))):\n",
    "    leaves.add(A[i])\n",
    "    time = i\n",
    "    if positions == leaves:\n",
    "        print(time) \n",
    "        break\n",
    "# if positions != leaves:\n",
    "#     return -1\n",
    "\n",
    "\n"
   ]
  },
  {
   "cell_type": "code",
   "execution_count": 60,
   "metadata": {},
   "outputs": [],
   "source": [
    "# SOLUTION\n",
    "def frogriverjump(X, A):\n",
    "    positions = set(list(range(1,X+1)))\n",
    "    leaves = set()\n",
    "    for i in list(range(len(A))):\n",
    "        leaves.add(A[i])\n",
    "        time = i\n",
    "        if positions == leaves:\n",
    "            return time\n",
    "    if positions != leaves:\n",
    "        return -1\n"
   ]
  },
  {
   "cell_type": "code",
   "execution_count": 61,
   "metadata": {},
   "outputs": [
    {
     "name": "stdout",
     "output_type": "stream",
     "text": [
      "FrogRiverOne codility problem with array [1, 3, 1, 4, 2, 3, 5, 4],\n",
      "X = 5.\n",
      "Time taken to jump river: 6s\n",
      "FrogRiverOne codility problem with array [0],\n",
      "X = 1.\n",
      "Time taken to jump river: -1s\n"
     ]
    }
   ],
   "source": [
    "print(f\"FrogRiverOne codility problem with array {A},\\nX = {X}.\\nTime taken to jump river: {frogriverjump(5, [1, 3, 1, 4, 2, 3, 5, 4])}s\")\n",
    "print(f\"FrogRiverOne codility problem with array {[0]},\\nX = {1}.\\nTime taken to jump river: {frogriverjump(1, [0])}s\")"
   ]
  },
  {
   "cell_type": "code",
   "execution_count": 62,
   "metadata": {},
   "outputs": [],
   "source": [
    "# SOLUTION FOUND ONLINE BUT DOES NOT RETURN -1 WHEN FROG CAN'T JUMP\n",
    "def solution(X, A):\n",
    "    B = [-1] * X\n",
    "    for i in range(0, len(A)):\n",
    "        if (A[i]<=X and B[A[i]-1]==-1):\n",
    "            B[A[i]-1]=i\n",
    "    m=0\n",
    "    for i in range(0, len(B)):\n",
    "        if B[i]==-1:\n",
    "            return -1\n",
    "        m = max(m, B[i])\n",
    "    return m"
   ]
  },
  {
   "cell_type": "code",
   "execution_count": 63,
   "metadata": {},
   "outputs": [
    {
     "name": "stdout",
     "output_type": "stream",
     "text": [
      "0\n",
      "6\n",
      "-1\n"
     ]
    }
   ],
   "source": [
    "print(solution(1, [0])) # Found solution does not return -1\n",
    "print(solution(X, A))\n",
    "print(frogriverjump(1, [0])) # My solution returns -1 when frog can't jump"
   ]
  }
 ],
 "metadata": {
  "kernelspec": {
   "display_name": "Python 3",
   "language": "python",
   "name": "python3"
  },
  "language_info": {
   "codemirror_mode": {
    "name": "ipython",
    "version": 3
   },
   "file_extension": ".py",
   "mimetype": "text/x-python",
   "name": "python",
   "nbconvert_exporter": "python",
   "pygments_lexer": "ipython3",
   "version": "3.10.11"
  }
 },
 "nbformat": 4,
 "nbformat_minor": 2
}
