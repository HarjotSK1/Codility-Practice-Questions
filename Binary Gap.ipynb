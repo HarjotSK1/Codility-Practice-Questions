{
 "cells": [
  {
   "cell_type": "code",
   "execution_count": 79,
   "metadata": {},
   "outputs": [
    {
     "name": "stdout",
     "output_type": "stream",
     "text": [
      "[0, 1, 1, 0, 0, 0]\n",
      "[1, 0, 1, 0, 1, 1, 1, 1, 0]\n"
     ]
    },
    {
     "data": {
      "text/plain": [
       "1"
      ]
     },
     "execution_count": 79,
     "metadata": {},
     "output_type": "execute_result"
    }
   ],
   "source": [
    "# WORKINGS FOR SOLUTION\n",
    "test = list(bin(350).replace('0b',''))\n",
    "for i,j in enumerate(test):\n",
    "    test[i] = int(j)\n",
    "\n",
    "counts = []\n",
    "max_count = 0\n",
    "count = 0\n",
    "for i,j in enumerate(test):\n",
    "    if j==0:\n",
    "        count = count + 1\n",
    "    else:\n",
    "        counts.append(count)\n",
    "        count = 0\n",
    "\n",
    "print(counts)\n",
    "print(test)\n",
    "max(counts)\n",
    "    \n",
    "    "
   ]
  },
  {
   "cell_type": "code",
   "execution_count": 76,
   "metadata": {},
   "outputs": [],
   "source": [
    "# SOLUTION\n",
    "def largestbinarygap(a):\n",
    "    binary_list = list(bin(a).replace('0b',''))\n",
    "    for i,j in enumerate(binary_list):\n",
    "        binary_list[i] = int(j)\n",
    "\n",
    "    counts = []\n",
    "    count = 0\n",
    "    for i,j in enumerate(binary_list):\n",
    "        if j==0:\n",
    "            count = count + 1\n",
    "        else:\n",
    "            counts.append(count)\n",
    "            count = 0\n",
    "    return binary_list, max(counts)\n"
   ]
  },
  {
   "cell_type": "code",
   "execution_count": 80,
   "metadata": {},
   "outputs": [
    {
     "name": "stdout",
     "output_type": "stream",
     "text": [
      "([1, 1, 0, 0, 0], 0)\n",
      "([1, 0, 0, 0, 1, 1], 3)\n",
      "([1, 0, 1, 0, 1, 1, 1, 1, 0], 1)\n",
      "([1, 0, 0, 0, 0, 1, 0, 0, 0, 0, 1], 4)\n",
      "([1, 0, 1, 0, 1, 0, 0, 0], 1)\n"
     ]
    }
   ],
   "source": [
    "print(largestbinarygap(24))\n",
    "print(largestbinarygap(35))\n",
    "print(largestbinarygap(350))\n",
    "print(largestbinarygap(1057))\n",
    "print(largestbinarygap(168))"
   ]
  },
  {
   "cell_type": "code",
   "execution_count": 82,
   "metadata": {},
   "outputs": [],
   "source": [
    "# SOLUTION FOUND ONLINE\n",
    "def solution(N):\n",
    "    N=bin(N)[2:]\n",
    "    b=0\n",
    "    maxb=0\n",
    "    for k in N:\n",
    "        if int(k)==0:\n",
    "            b+=1\n",
    "        elif int(k)==1:\n",
    "            maxb=max(b,maxb)\n",
    "            b=0\n",
    "    return maxb"
   ]
  },
  {
   "cell_type": "code",
   "execution_count": 84,
   "metadata": {},
   "outputs": [
    {
     "name": "stdout",
     "output_type": "stream",
     "text": [
      "0\n",
      "3\n",
      "1\n",
      "4\n",
      "1\n"
     ]
    }
   ],
   "source": [
    "print(solution(24))\n",
    "print(solution(35))\n",
    "print(solution(350))\n",
    "print(solution(1057))\n",
    "print(solution(168))"
   ]
  }
 ],
 "metadata": {
  "kernelspec": {
   "display_name": "Python 3",
   "language": "python",
   "name": "python3"
  },
  "language_info": {
   "codemirror_mode": {
    "name": "ipython",
    "version": 3
   },
   "file_extension": ".py",
   "mimetype": "text/x-python",
   "name": "python",
   "nbconvert_exporter": "python",
   "pygments_lexer": "ipython3",
   "version": "3.10.11"
  }
 },
 "nbformat": 4,
 "nbformat_minor": 2
}
