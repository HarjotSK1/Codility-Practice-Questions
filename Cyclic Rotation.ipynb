{
 "cells": [
  {
   "cell_type": "code",
   "execution_count": 35,
   "metadata": {},
   "outputs": [
    {
     "name": "stdout",
     "output_type": "stream",
     "text": [
      "[6, 3, 8, 9, 7]\n"
     ]
    }
   ],
   "source": [
    "# WORKINGS FOR SOLUTION\n",
    "A = [3,8,9,7,6]\n",
    "K = 6\n",
    "N = len(A)\n",
    "B = [None] * N\n",
    "for i in range(0,N):\n",
    "    B[(i+K)%N]=A[i]\n",
    "\n",
    "print(B)\n"
   ]
  },
  {
   "cell_type": "code",
   "execution_count": 36,
   "metadata": {},
   "outputs": [],
   "source": [
    "# SOLUTION\n",
    "def cyclic_rotation(A, K):\n",
    "    N = len(A)\n",
    "    B = [None]*N\n",
    "    for i in range(0,N):\n",
    "        B[(i+K)%N] = A[i]\n",
    "    return B"
   ]
  },
  {
   "cell_type": "code",
   "execution_count": 38,
   "metadata": {},
   "outputs": [
    {
     "name": "stdout",
     "output_type": "stream",
     "text": [
      "[9, 7, 6, 3, 8]\n",
      "[0, 0, 0]\n",
      "[1, 2, 3, 4]\n"
     ]
    }
   ],
   "source": [
    "print(cyclic_rotation([3,8,9,7,6],3))\n",
    "print(cyclic_rotation([0,0,0],1))\n",
    "print(cyclic_rotation([1,2,3,4],4))"
   ]
  }
 ],
 "metadata": {
  "kernelspec": {
   "display_name": "Python 3",
   "language": "python",
   "name": "python3"
  },
  "language_info": {
   "codemirror_mode": {
    "name": "ipython",
    "version": 3
   },
   "file_extension": ".py",
   "mimetype": "text/x-python",
   "name": "python",
   "nbconvert_exporter": "python",
   "pygments_lexer": "ipython3",
   "version": "3.10.11"
  }
 },
 "nbformat": 4,
 "nbformat_minor": 2
}
