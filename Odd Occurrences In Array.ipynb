{
 "cells": [
  {
   "cell_type": "code",
   "execution_count": 16,
   "metadata": {},
   "outputs": [
    {
     "name": "stdout",
     "output_type": "stream",
     "text": [
      "7\n"
     ]
    }
   ],
   "source": [
    "# WORKINGS FOR SOLUTION\n",
    "A=[9,3,9,3,9,7,9]\n",
    "B=set(A)\n",
    "for i in B:\n",
    "    count = A.count(i)\n",
    "    if (count%2) != 0:\n",
    "        odd = i\n",
    "print(odd)"
   ]
  },
  {
   "cell_type": "code",
   "execution_count": 41,
   "metadata": {},
   "outputs": [],
   "source": [
    "# SOLUTION\n",
    "def oddoccurrences(A):\n",
    "    B=set(A)\n",
    "    for i in B:\n",
    "        count = A.count(i)\n",
    "        if (count%2) != 0:\n",
    "            odd = i\n",
    "            odd_count = count\n",
    "    return \"The odd occurrence in this Array is {} with a count of {}\".format(odd, odd_count)"
   ]
  },
  {
   "cell_type": "code",
   "execution_count": 47,
   "metadata": {},
   "outputs": [
    {
     "name": "stdout",
     "output_type": "stream",
     "text": [
      "The odd occurrence in this Array is 7 with a count of 1\n",
      "The odd occurrence in this Array is 9 with a count of 3\n",
      "The odd occurrence in this Array is -2 with a count of 1\n"
     ]
    }
   ],
   "source": [
    "print(oddoccurrences([9,3,9,3,9,7,9]))\n",
    "print(oddoccurrences([9,10,9,3,10,7,9,3,10,7,10]))\n",
    "print(oddoccurrences([4, 5, -1, -2, 4, 5, -1]))"
   ]
  },
  {
   "cell_type": "code",
   "execution_count": 49,
   "metadata": {},
   "outputs": [],
   "source": [
    "# SOLUTION FOUND ONLINE\n",
    "def solution(A):\n",
    "    A.sort()\n",
    "    A.append(-1)\n",
    "    for i in range(0,len(A),2):\n",
    "        if A[i]!=A[i+1]:\n",
    "            return A[i]"
   ]
  },
  {
   "cell_type": "code",
   "execution_count": 50,
   "metadata": {},
   "outputs": [
    {
     "name": "stdout",
     "output_type": "stream",
     "text": [
      "7\n",
      "9\n",
      "-2\n"
     ]
    }
   ],
   "source": [
    "print(solution([9,3,9,3,9,7,9]))\n",
    "print(solution([9,10,9,3,10,7,9,3,10,7,10]))\n",
    "print(solution([4, 5, -1, -2, 4, 5, -1]))"
   ]
  }
 ],
 "metadata": {
  "kernelspec": {
   "display_name": "Python 3",
   "language": "python",
   "name": "python3"
  },
  "language_info": {
   "codemirror_mode": {
    "name": "ipython",
    "version": 3
   },
   "file_extension": ".py",
   "mimetype": "text/x-python",
   "name": "python",
   "nbconvert_exporter": "python",
   "pygments_lexer": "ipython3",
   "version": "3.10.11"
  }
 },
 "nbformat": 4,
 "nbformat_minor": 2
}
