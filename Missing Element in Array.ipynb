{
 "cells": [
  {
   "cell_type": "code",
   "execution_count": 17,
   "metadata": {},
   "outputs": [
    {
     "data": {
      "text/plain": [
       "4"
      ]
     },
     "execution_count": 17,
     "metadata": {},
     "output_type": "execute_result"
    }
   ],
   "source": [
    "# WORKINGS FOR SOLUTION\n",
    "A = [2,3,1,5]\n",
    "N = len(A)\n",
    "list_range = list(range(1,N+2))\n",
    "result = list(set(list_range)-set(A))\n",
    "result[0]"
   ]
  },
  {
   "cell_type": "code",
   "execution_count": 19,
   "metadata": {},
   "outputs": [],
   "source": [
    "# SOLUTION\n",
    "def missingelement(A):\n",
    "    N = len(A)\n",
    "    array_range = list(range(1,N+2))\n",
    "    missing_value = list(set(array_range)-set(A))\n",
    "    return missing_value[0]"
   ]
  },
  {
   "cell_type": "code",
   "execution_count": 25,
   "metadata": {},
   "outputs": [
    {
     "name": "stdout",
     "output_type": "stream",
     "text": [
      "4\n",
      "8\n",
      "18\n",
      "1\n"
     ]
    }
   ],
   "source": [
    "print(missingelement([2,3,1,5]))\n",
    "print(missingelement([2,3,1,5,4,6,7,9,10,11,12,13]))\n",
    "print(missingelement([2,3,1,5,4,6,7,9,10,11,12,13,8,14,15,16,17,19,20]))\n",
    "print(missingelement([]))"
   ]
  },
  {
   "cell_type": "code",
   "execution_count": 28,
   "metadata": {},
   "outputs": [],
   "source": [
    "# SOLUTION FOUND ONLINE\n",
    "def solution(A):\n",
    "    if(len(A) == 0):\n",
    "        return 1\n",
    "    A.sort()\n",
    "\n",
    "    for i in range(0, len(A)):\n",
    "        if A[i] != i+1:\n",
    "            return i+1\n",
    "    return (A[len(A)-1]+1)\n",
    "    return (len(A)+1)\n",
    "    "
   ]
  },
  {
   "cell_type": "code",
   "execution_count": 29,
   "metadata": {},
   "outputs": [
    {
     "name": "stdout",
     "output_type": "stream",
     "text": [
      "4\n",
      "8\n",
      "18\n",
      "1\n"
     ]
    }
   ],
   "source": [
    "print(solution([2,3,1,5]))\n",
    "print(solution([2,3,1,5,4,6,7,9,10,11,12,13]))\n",
    "print(solution([2,3,1,5,4,6,7,9,10,11,12,13,8,14,15,16,17,19,20]))\n",
    "print(solution([]))"
   ]
  },
  {
   "cell_type": "code",
   "execution_count": null,
   "metadata": {},
   "outputs": [],
   "source": []
  }
 ],
 "metadata": {
  "kernelspec": {
   "display_name": "Python 3",
   "language": "python",
   "name": "python3"
  },
  "language_info": {
   "codemirror_mode": {
    "name": "ipython",
    "version": 3
   },
   "file_extension": ".py",
   "mimetype": "text/x-python",
   "name": "python",
   "nbconvert_exporter": "python",
   "pygments_lexer": "ipython3",
   "version": "3.10.11"
  }
 },
 "nbformat": 4,
 "nbformat_minor": 2
}
